{
 "cells": [
  {
   "cell_type": "code",
   "execution_count": 1,
   "metadata": {},
   "outputs": [],
   "source": [
    "import pandas as pd \n",
    "#导入pandas包，并重命名为pd。"
   ]
  },
  {
   "cell_type": "code",
   "execution_count": 2,
   "metadata": {},
   "outputs": [],
   "source": [
    "col_names = ['RM', 'LSTAT', 'PTRATIO', 'MEDV']\n",
    "#通过查阅housing.csv文件，给出每个特征列的名称。\n",
    "data = pd.read_csv('data/housing.csv', names=col_names)\n",
    "#采用read_csv函数读取housing.csv文件，默认用逗号分隔数据；并存入变量data。"
   ]
  },
  {
   "cell_type": "code",
   "execution_count": 3,
   "metadata": {},
   "outputs": [
    {
     "data": {
      "text/html": [
       "<div>\n",
       "<style scoped>\n",
       "    .dataframe tbody tr th:only-of-type {\n",
       "        vertical-align: middle;\n",
       "    }\n",
       "\n",
       "    .dataframe tbody tr th {\n",
       "        vertical-align: top;\n",
       "    }\n",
       "\n",
       "    .dataframe thead th {\n",
       "        text-align: right;\n",
       "    }\n",
       "</style>\n",
       "<table border=\"1\" class=\"dataframe\">\n",
       "  <thead>\n",
       "    <tr style=\"text-align: right;\">\n",
       "      <th></th>\n",
       "      <th>RM</th>\n",
       "      <th>LSTAT</th>\n",
       "      <th>PTRATIO</th>\n",
       "      <th>MEDV</th>\n",
       "    </tr>\n",
       "  </thead>\n",
       "  <tbody>\n",
       "    <tr>\n",
       "      <th>0</th>\n",
       "      <td>6.575</td>\n",
       "      <td>4.98</td>\n",
       "      <td>15.3</td>\n",
       "      <td>504000</td>\n",
       "    </tr>\n",
       "    <tr>\n",
       "      <th>1</th>\n",
       "      <td>6.421</td>\n",
       "      <td>9.14</td>\n",
       "      <td>17.8</td>\n",
       "      <td>453600</td>\n",
       "    </tr>\n",
       "    <tr>\n",
       "      <th>2</th>\n",
       "      <td>7.185</td>\n",
       "      <td>4.03</td>\n",
       "      <td>17.8</td>\n",
       "      <td>728700</td>\n",
       "    </tr>\n",
       "    <tr>\n",
       "      <th>3</th>\n",
       "      <td>6.998</td>\n",
       "      <td>2.94</td>\n",
       "      <td>18.7</td>\n",
       "      <td>701400</td>\n",
       "    </tr>\n",
       "    <tr>\n",
       "      <th>4</th>\n",
       "      <td>7.147</td>\n",
       "      <td>5.33</td>\n",
       "      <td>18.7</td>\n",
       "      <td>760200</td>\n",
       "    </tr>\n",
       "    <tr>\n",
       "      <th>...</th>\n",
       "      <td>...</td>\n",
       "      <td>...</td>\n",
       "      <td>...</td>\n",
       "      <td>...</td>\n",
       "    </tr>\n",
       "    <tr>\n",
       "      <th>484</th>\n",
       "      <td>6.593</td>\n",
       "      <td>9.67</td>\n",
       "      <td>21.0</td>\n",
       "      <td>470400</td>\n",
       "    </tr>\n",
       "    <tr>\n",
       "      <th>485</th>\n",
       "      <td>6.120</td>\n",
       "      <td>9.08</td>\n",
       "      <td>21.0</td>\n",
       "      <td>432600</td>\n",
       "    </tr>\n",
       "    <tr>\n",
       "      <th>486</th>\n",
       "      <td>6.976</td>\n",
       "      <td>5.64</td>\n",
       "      <td>21.0</td>\n",
       "      <td>501900</td>\n",
       "    </tr>\n",
       "    <tr>\n",
       "      <th>487</th>\n",
       "      <td>6.794</td>\n",
       "      <td>6.48</td>\n",
       "      <td>21.0</td>\n",
       "      <td>462000</td>\n",
       "    </tr>\n",
       "    <tr>\n",
       "      <th>488</th>\n",
       "      <td>6.030</td>\n",
       "      <td>7.88</td>\n",
       "      <td>21.0</td>\n",
       "      <td>249900</td>\n",
       "    </tr>\n",
       "  </tbody>\n",
       "</table>\n",
       "<p>489 rows × 4 columns</p>\n",
       "</div>"
      ],
      "text/plain": [
       "        RM  LSTAT  PTRATIO    MEDV\n",
       "0    6.575   4.98     15.3  504000\n",
       "1    6.421   9.14     17.8  453600\n",
       "2    7.185   4.03     17.8  728700\n",
       "3    6.998   2.94     18.7  701400\n",
       "4    7.147   5.33     18.7  760200\n",
       "..     ...    ...      ...     ...\n",
       "484  6.593   9.67     21.0  470400\n",
       "485  6.120   9.08     21.0  432600\n",
       "486  6.976   5.64     21.0  501900\n",
       "487  6.794   6.48     21.0  462000\n",
       "488  6.030   7.88     21.0  249900\n",
       "\n",
       "[489 rows x 4 columns]"
      ]
     },
     "execution_count": 3,
     "metadata": {},
     "output_type": "execute_result"
    }
   ],
   "source": [
    "data\n",
    "#展示data的数据信息。"
   ]
  },
  {
   "cell_type": "code",
   "execution_count": 4,
   "metadata": {},
   "outputs": [
    {
     "data": {
      "text/plain": [
       "(489, 4)"
      ]
     },
     "execution_count": 4,
     "metadata": {},
     "output_type": "execute_result"
    }
   ],
   "source": [
    "data.shape\n",
    "#展示data的数据个数与维度个数（489组数据，有4个维度的特征）"
   ]
  },
  {
   "cell_type": "code",
   "execution_count": 5,
   "metadata": {},
   "outputs": [
    {
     "name": "stdout",
     "output_type": "stream",
     "text": [
      "<class 'pandas.core.frame.DataFrame'>\n",
      "RangeIndex: 489 entries, 0 to 488\n",
      "Data columns (total 4 columns):\n",
      " #   Column   Non-Null Count  Dtype  \n",
      "---  ------   --------------  -----  \n",
      " 0   RM       489 non-null    float64\n",
      " 1   LSTAT    489 non-null    float64\n",
      " 2   PTRATIO  489 non-null    float64\n",
      " 3   MEDV     489 non-null    int64  \n",
      "dtypes: float64(3), int64(1)\n",
      "memory usage: 15.4 KB\n"
     ]
    }
   ],
   "source": [
    "data.info()\n",
    "#展示data各个特征维度的信息"
   ]
  },
  {
   "cell_type": "code",
   "execution_count": 6,
   "metadata": {},
   "outputs": [],
   "source": [
    "from sklearn.model_selection import train_test_split\n",
    "# 从 sklearn.model_selection导入train_test_split。\n",
    "\n",
    "X = data[col_names[0:-1]]\n",
    "y = data[col_names[-1]]\n",
    "#将前3列选为特征,将MEDV命名的列取出作为待预测的列。\n",
    "\n",
    "X_train, X_test, y_train, y_test = train_test_split(X, y, test_size=0.25, random_state=2019)\n",
    "#分割出25%的数据作为测试集，剩下75%的数据作为训练样本。"
   ]
  },
  {
   "cell_type": "code",
   "execution_count": 7,
   "metadata": {},
   "outputs": [],
   "source": [
    "from sklearn.preprocessing import StandardScaler\n",
    "# 从 sklearn.preprocessing导入StandardScaler，对X进行标准化处理。\n",
    "ss = StandardScaler()\n",
    "\n",
    "X_train = ss.fit_transform(X_train)\n",
    "X_test = ss.transform(X_test)"
   ]
  },
  {
   "cell_type": "code",
   "execution_count": 8,
   "metadata": {},
   "outputs": [
    {
     "data": {
      "text/plain": [
       "array([[ 0.05660961,  0.59503956,  0.76425532],\n",
       "       [-0.34548984, -0.72470757,  0.48156967],\n",
       "       [ 0.32991157,  0.57435387,  0.76425532],\n",
       "       ...,\n",
       "       [ 0.39116891, -0.767458  , -1.82702976],\n",
       "       [-1.98058953,  2.62499544,  0.76425532],\n",
       "       [-0.30779301, -1.02533963,  0.29311257]])"
      ]
     },
     "execution_count": 8,
     "metadata": {},
     "output_type": "execute_result"
    }
   ],
   "source": [
    "X_train"
   ]
  },
  {
   "cell_type": "code",
   "execution_count": 9,
   "metadata": {},
   "outputs": [
    {
     "data": {
      "text/plain": [
       "(366, 3)"
      ]
     },
     "execution_count": 9,
     "metadata": {},
     "output_type": "execute_result"
    }
   ],
   "source": [
    "X_train.shape"
   ]
  },
  {
   "cell_type": "code",
   "execution_count": 10,
   "metadata": {},
   "outputs": [
    {
     "data": {
      "text/plain": [
       "array([[-0.10674329,  0.30543988,  0.76425532],\n",
       "       [-0.21040956, -0.20342814,  0.76425532],\n",
       "       [-2.52719347,  2.11336933,  0.76425532],\n",
       "       [-1.08528999,  1.11218185,  1.14116951],\n",
       "       [ 1.28489776, -1.0005168 , -0.36648726],\n",
       "       [-1.03031546,  0.75914605,  0.2459983 ],\n",
       "       [-0.74601858,  0.16477717, -0.31937299],\n",
       "       [ 1.12154486, -1.15772805, -0.74340146],\n",
       "       [ 1.09327224, -1.2997698 ,  0.2459983 ],\n",
       "       [ 1.22521112, -1.13290522, -1.77991549],\n",
       "       [-0.87167466, -0.07241876, -0.79051573],\n",
       "       [ 0.45713835, -1.26805174, -0.55494436],\n",
       "       [ 1.55191692, -1.1232519 , -0.31937299],\n",
       "       [ 0.3676084 , -0.02139405,  1.14116951],\n",
       "       [ 0.27807844, -1.29149553,  0.2459983 ],\n",
       "       [-0.96277531,  0.15788194,  0.76425532],\n",
       "       [-0.64549372, -0.57714964,  0.29311257],\n",
       "       [ 0.59850144, -0.4502774 , -1.0260871 ],\n",
       "       [-0.1193089 ,  0.71363753,  0.76425532],\n",
       "       [-0.18370764, -0.53302016, -0.79051573],\n",
       "       [ 0.73201102, -0.48751164,  1.09405524],\n",
       "       [ 0.97075756, -0.41718029, -0.55494436],\n",
       "       [-0.39575227,  0.04342111, -1.59145839],\n",
       "       [ 0.61892055,  0.65847568,  0.76425532],\n",
       "       [-0.92821989,  0.64054808,  0.29311257],\n",
       "       [-0.63921092, -0.1813634 , -1.82702976],\n",
       "       [ 0.30320966,  0.2254552 ,  1.23539806],\n",
       "       [-0.80727592,  0.96048678,  0.76425532],\n",
       "       [-3.76647652,  0.05169539,  0.76425532],\n",
       "       [ 0.09116503, -0.25583189, -1.82702976],\n",
       "       [-0.24810638,  1.42522532,  0.76425532],\n",
       "       [ 0.58122373, -0.47096309, -0.55494436],\n",
       "       [ 0.17912428, -0.49302783,  0.01042693],\n",
       "       [-0.01564264,  0.17029336,  0.76425532],\n",
       "       [ 2.5006203 , -1.26115651, -1.82702976],\n",
       "       [ 1.82050678, -0.89433025, -0.08380162],\n",
       "       [-0.63606951,  0.00618687,  0.01042693],\n",
       "       [-1.68843916,  2.11888552, -1.82702976],\n",
       "       [ 0.15242237, -0.23928334, -0.93185855],\n",
       "       [-0.14444012, -0.98534729, -0.31937299],\n",
       "       [-0.99576003,  1.36868443,  0.76425532],\n",
       "       [-0.15543502,  1.53692806,  0.76425532],\n",
       "       [ 0.22781601,  0.90532494,  0.76425532],\n",
       "       [-0.99418933,  0.5095387 , -1.82702976],\n",
       "       [ 1.13253976, -1.11635667, -1.16742993],\n",
       "       [-0.4538682 , -0.41166411, -0.08380162],\n",
       "       [ 1.53935131, -1.02947677, -1.45011557],\n",
       "       [-0.4475854 ,  0.83499358,  0.76425532],\n",
       "       [ 1.58018954, -0.95225018, -0.46071581],\n",
       "       [-0.54653956,  0.44886067, -0.36648726],\n",
       "       [-0.36276755, -0.69988474,  1.14116951],\n",
       "       [ 0.18226568,  1.03357622, -1.59145839],\n",
       "       [-0.86067975,  0.57297482,  0.76425532],\n",
       "       [-0.46486311,  0.1206477 ,  1.14116951],\n",
       "       [ 0.08488222, -0.91915308, -0.93185855],\n",
       "       [-0.13972801,  0.85430023, -1.59145839],\n",
       "       [ 0.27493704,  0.45023972,  0.76425532],\n",
       "       [-0.87952816,  0.74397654,  1.14116951],\n",
       "       [-0.46329241,  0.20476951,  0.52868395],\n",
       "       [ 0.91264163, -0.83503126, -2.62797243],\n",
       "       [ 0.49954728, -1.02947677, -0.13091589],\n",
       "       [-0.47114591, -0.42407552,  0.29311257],\n",
       "       [-1.95074622,  2.9587246 ,  1.23539806],\n",
       "       [-0.612509  ,  0.05307444,  0.76425532],\n",
       "       [-0.25124778, -0.43372884, -1.82702976],\n",
       "       [-0.33606563,  0.59641861,  1.14116951],\n",
       "       [ 0.5419562 , -0.7702161 , -0.93185855],\n",
       "       [-0.29679811,  0.01170305,  1.14116951],\n",
       "       [ 0.71316261, -0.38546223, -0.36648726],\n",
       "       [-0.2826618 ,  0.24062471,  0.76425532],\n",
       "       [ 0.62206195,  1.13976278,  0.76425532],\n",
       "       [-0.25910129, -0.37167177,  1.14116951],\n",
       "       [-0.40517647,  1.15355324,  0.76425532],\n",
       "       [-0.27480829, -0.28617091, -0.55494436],\n",
       "       [-0.23239937, -0.03104738, -0.08380162],\n",
       "       [-0.63135741, -0.45717263, -0.93185855],\n",
       "       [ 3.11947647, -1.24184987, -0.55494436],\n",
       "       [-1.96174112, -0.11516919, -1.82702976],\n",
       "       [ 0.19011919, -0.35788131, -0.08380162],\n",
       "       [-0.30622231, -0.89984643, -1.82702976],\n",
       "       [-0.47114591,  0.6860566 ,  0.2459983 ],\n",
       "       [-2.97327254,  2.43744517,  0.76425532],\n",
       "       [-0.70360966,  0.25579422,  1.14116951],\n",
       "       [-0.13658661,  1.54520233,  1.23539806],\n",
       "       [-0.22925797, -0.4861326 , -0.83763001],\n",
       "       [-0.26067199, -0.0765559 , -0.93185855],\n",
       "       [-0.4397319 , -0.17998436, -0.55494436],\n",
       "       [-2.13294753,  2.25265299, -1.82702976],\n",
       "       [-1.34602635,  0.04480016, -1.82702976],\n",
       "       [-0.23397007, -0.03932165,  0.76425532],\n",
       "       [ 0.57965303, -0.88605597, -0.03668734],\n",
       "       [ 1.81422398, -0.93294354, -0.27225872],\n",
       "       [-0.6172211 , -0.41166411, -0.79051573],\n",
       "       [ 0.24195232, -0.94259686,  0.48156967],\n",
       "       [ 0.88436901,  1.34937779,  0.76425532],\n",
       "       [-1.41199579, -0.38132509,  0.76425532],\n",
       "       [ 0.0393319 , -0.55370586,  0.0575412 ],\n",
       "       [-0.48685292,  0.68467756, -1.0260871 ],\n",
       "       [ 3.13832489, -1.29839076,  0.2459983 ],\n",
       "       [-2.56489029,  2.95320842,  0.76425532],\n",
       "       [-0.43187839,  0.25579422,  0.2459983 ],\n",
       "       [-0.05019806, -0.01174073,  0.76425532],\n",
       "       [ 0.99903018, -0.2172186 , -0.93185855],\n",
       "       [-0.08161208, -0.80193416, -0.93185855],\n",
       "       [ 0.52467849, -1.19082516, -0.13091589],\n",
       "       [ 0.26551283, -1.06809006,  0.0575412 ],\n",
       "       [-0.75230139,  0.41162643, -0.08380162],\n",
       "       [-0.52454975, -0.51509256,  0.52868395],\n",
       "       [-0.60308479, -0.1124111 , -1.82702976],\n",
       "       [-0.54496886,  0.74121845, -0.08380162],\n",
       "       [ 0.17598288, -0.33857466, -1.0260871 ],\n",
       "       [-0.05019806,  0.02135638,  0.76425532],\n",
       "       [-0.6077969 , -0.53164112,  0.0575412 ],\n",
       "       [-0.6140797 ,  0.19511619,  0.2459983 ],\n",
       "       [-1.100997  , -0.34546989, -2.62797243],\n",
       "       [-0.22140446, -0.53439921,  1.14116951],\n",
       "       [ 1.39170542, -1.0515415 ,  0.0575412 ],\n",
       "       [-0.30151021, -0.46958404, -0.31937299],\n",
       "       [-1.04759317,  0.01859828,  0.15176975],\n",
       "       [-0.06590507,  0.50126442,  0.76425532],\n",
       "       [ 0.73044032, -0.67644096, -0.55494436],\n",
       "       [-0.6109383 ,  0.3330208 , -0.36648726],\n",
       "       [ 0.2011141 , -0.45993072, -0.03668734]])"
      ]
     },
     "execution_count": 10,
     "metadata": {},
     "output_type": "execute_result"
    }
   ],
   "source": [
    "X_test"
   ]
  },
  {
   "cell_type": "code",
   "execution_count": 11,
   "metadata": {},
   "outputs": [
    {
     "data": {
      "text/plain": [
       "(123, 3)"
      ]
     },
     "execution_count": 11,
     "metadata": {},
     "output_type": "execute_result"
    }
   ],
   "source": [
    "X_test.shape"
   ]
  },
  {
   "cell_type": "markdown",
   "metadata": {},
   "source": [
    "## 方法1 LinearRegression"
   ]
  },
  {
   "cell_type": "code",
   "execution_count": 12,
   "metadata": {},
   "outputs": [
    {
     "name": "stdout",
     "output_type": "stream",
     "text": [
      "63405.76473875027\n",
      "7640132624.722741\n",
      "0.653132303467161\n"
     ]
    }
   ],
   "source": [
    "from sklearn.linear_model import LinearRegression\n",
    "from sklearn.metrics import mean_absolute_error, mean_squared_error, r2_score\n",
    "# 从sklearn.linear_model导入LinearRegression。\n",
    "# 从sklearn.metrics导入mean_absolute_error, mean_squared_error, r2_score用来评估模型预测的可靠度。\n",
    "\n",
    "\n",
    "lr = LinearRegression()\n",
    "# 初始化模型。\n",
    "lr.fit(X_train, y_train)\n",
    "# 模型训练。\n",
    "y1_predict = lr.predict(X_test)\n",
    "# 预测的类别结果存入y_predict。\n",
    "score1 = r2_score(y_test, y1_predict)\n",
    "\n",
    "print (mean_absolute_error(y_test, y1_predict))\n",
    "print (mean_squared_error(y_test, y1_predict))\n",
    "print (r2_score(y_test, y1_predict))"
   ]
  },
  {
   "cell_type": "markdown",
   "metadata": {},
   "source": [
    "## 方法2 KNeighborsRegressor"
   ]
  },
  {
   "cell_type": "code",
   "execution_count": 13,
   "metadata": {},
   "outputs": [
    {
     "name": "stdout",
     "output_type": "stream",
     "text": [
      "50577.560975609755\n",
      "4235143141.4634147\n",
      "0.8077213553580718\n"
     ]
    }
   ],
   "source": [
    "from sklearn.neighbors import KNeighborsRegressor\n",
    "\n",
    "knr = KNeighborsRegressor()\n",
    "\n",
    "knr.fit(X_train, y_train)\n",
    "\n",
    "y2_predict = knr.predict(X_test)\n",
    "\n",
    "print (mean_absolute_error(y_test, y2_predict))\n",
    "print (mean_squared_error(y_test, y2_predict))\n",
    "print (r2_score(y_test, y2_predict))"
   ]
  },
  {
   "cell_type": "markdown",
   "metadata": {},
   "source": [
    "## 方法3 DecisionTreeRegressor"
   ]
  },
  {
   "cell_type": "code",
   "execution_count": 14,
   "metadata": {},
   "outputs": [
    {
     "name": "stdout",
     "output_type": "stream",
     "text": [
      "66568.29268292683\n",
      "7745358292.682927\n",
      "0.6483549799762873\n"
     ]
    }
   ],
   "source": [
    "from sklearn.tree import DecisionTreeRegressor\n",
    "\n",
    "dtr = DecisionTreeRegressor()\n",
    "\n",
    "dtr.fit(X_train, y_train)\n",
    "\n",
    "y3_predict = dtr.predict(X_test)\n",
    "\n",
    "print (mean_absolute_error(y_test, y3_predict))\n",
    "print (mean_squared_error(y_test, y3_predict))\n",
    "print (r2_score(y_test, y3_predict))"
   ]
  },
  {
   "cell_type": "markdown",
   "metadata": {},
   "source": [
    "## 方法4 RandomForestRegressor"
   ]
  },
  {
   "cell_type": "code",
   "execution_count": 15,
   "metadata": {},
   "outputs": [
    {
     "name": "stdout",
     "output_type": "stream",
     "text": [
      "49177.560975609755\n",
      "4241653986.585366\n",
      "0.807425758153041\n"
     ]
    }
   ],
   "source": [
    "from sklearn.ensemble import RandomForestRegressor\n",
    "\n",
    "rfr = RandomForestRegressor()\n",
    "\n",
    "rfr.fit(X_train, y_train)\n",
    "\n",
    "y4_predict = rfr.predict(X_test)\n",
    "\n",
    "print (mean_absolute_error(y_test, y4_predict))\n",
    "print (mean_squared_error(y_test, y4_predict))\n",
    "print (r2_score(y_test, y4_predict))"
   ]
  },
  {
   "cell_type": "markdown",
   "metadata": {},
   "source": [
    "## 方法5 GradientBoostingRegressor"
   ]
  },
  {
   "cell_type": "code",
   "execution_count": 16,
   "metadata": {},
   "outputs": [
    {
     "name": "stdout",
     "output_type": "stream",
     "text": [
      "48595.59779609193\n",
      "4100959316.1789236\n",
      "0.8138134007026492\n"
     ]
    }
   ],
   "source": [
    "from sklearn.ensemble import GradientBoostingRegressor\n",
    "\n",
    "gbr = GradientBoostingRegressor()\n",
    "\n",
    "gbr.fit(X_train, y_train)\n",
    "\n",
    "y5_predict = gbr.predict(X_test)\n",
    "\n",
    "print (mean_absolute_error(y_test, y5_predict))\n",
    "print (mean_squared_error(y_test, y5_predict))\n",
    "print (r2_score(y_test, y5_predict))"
   ]
  },
  {
   "cell_type": "markdown",
   "metadata": {},
   "source": [
    "## 方法6 MLPRegressor "
   ]
  },
  {
   "cell_type": "code",
   "execution_count": 17,
   "metadata": {},
   "outputs": [
    {
     "name": "stdout",
     "output_type": "stream",
     "text": [
      "54835.00369687002\n",
      "4934992549.855128\n",
      "0.775947672343307\n"
     ]
    },
    {
     "name": "stderr",
     "output_type": "stream",
     "text": [
      "D:\\anaconda\\lib\\site-packages\\sklearn\\neural_network\\_multilayer_perceptron.py:582: ConvergenceWarning: Stochastic Optimizer: Maximum iterations (5000) reached and the optimization hasn't converged yet.\n",
      "  warnings.warn(\n"
     ]
    }
   ],
   "source": [
    "from sklearn.neural_network import MLPRegressor \n",
    "\n",
    "mlpr = MLPRegressor(hidden_layer_sizes=(200, 10), max_iter=5000)\n",
    "\n",
    "mlpr.fit(X_train, y_train)\n",
    "\n",
    "y6_predict = mlpr.predict(X_test)\n",
    "\n",
    "print (mean_absolute_error(y_test, y6_predict))\n",
    "print (mean_squared_error(y_test, y6_predict))\n",
    "print (r2_score(y_test, y6_predict))"
   ]
  },
  {
   "cell_type": "markdown",
   "metadata": {},
   "source": [
    "## 方法7 LogisticRegression"
   ]
  },
  {
   "cell_type": "code",
   "execution_count": 18,
   "metadata": {},
   "outputs": [
    {
     "name": "stdout",
     "output_type": "stream",
     "text": [
      "73363.41463414633\n",
      "9067856341.463415\n",
      "0.5883125861616498\n"
     ]
    }
   ],
   "source": [
    "from sklearn.linear_model import LogisticRegression\n",
    "\n",
    "lr = LogisticRegression()\n",
    "\n",
    "lr.fit(X_train, y_train)\n",
    "\n",
    "y7_predict = lr.predict(X_test)\n",
    "y7_predict_prob = lr.predict_proba(X_test)\n",
    "\n",
    "print (mean_absolute_error(y_test, y7_predict))\n",
    "print (mean_squared_error(y_test, y7_predict))\n",
    "print (r2_score(y_test, y7_predict))"
   ]
  },
  {
   "cell_type": "markdown",
   "metadata": {},
   "source": [
    "## 方法8 GradientBoostingClassifier"
   ]
  },
  {
   "cell_type": "code",
   "execution_count": 19,
   "metadata": {},
   "outputs": [
    {
     "name": "stdout",
     "output_type": "stream",
     "text": [
      "67490.24390243902\n",
      "7816133414.634147\n",
      "0.6451417368653483\n"
     ]
    }
   ],
   "source": [
    "from sklearn.ensemble import GradientBoostingClassifier\n",
    "\n",
    "gbc = GradientBoostingClassifier()\n",
    "\n",
    "gbc.fit(X_train, y_train)\n",
    "\n",
    "y8_predict = gbc.predict(X_test)\n",
    "\n",
    "print (mean_absolute_error(y_test, y8_predict))\n",
    "print (mean_squared_error(y_test, y8_predict))\n",
    "print (r2_score(y_test, y8_predict))"
   ]
  },
  {
   "cell_type": "code",
   "execution_count": 20,
   "metadata": {},
   "outputs": [],
   "source": [
    "s = (r2_score(y_test, y1_predict),r2_score(y_test, y2_predict),r2_score(y_test, y3_predict),r2_score(y_test, y4_predict),r2_score(y_test, y5_predict),r2_score(y_test, y6_predict),r2_score(y_test, y7_predict),r2_score(y_test, y8_predict),)"
   ]
  },
  {
   "cell_type": "code",
   "execution_count": 21,
   "metadata": {},
   "outputs": [],
   "source": [
    "m = (1,2,3,4,5,6,7,8)"
   ]
  },
  {
   "cell_type": "code",
   "execution_count": 22,
   "metadata": {},
   "outputs": [
    {
     "data": {
      "image/png": "[encoded data removed]",
      "text/plain": [
       "<Figure size 432x288 with 1 Axes>"
      ]
     },
     "metadata": {
      "needs_background": "light"
     },
     "output_type": "display_data"
    }
   ],
   "source": [
    "%matplotlib inline  \n",
    "import matplotlib.pylab as pl\n",
    "pl.xlabel('method')\n",
    "pl.ylabel('r2_score')\n",
    "pl.title('Comparison of the R2_scores of MEDV under different algorithms', fontsize=10)\n",
    "pl.plot(m,s)\n",
    "pl.show()"
   ]
  },
  {
   "cell_type": "markdown",
   "metadata": {},
   "source": [
    "### 用GradientBoostingRegressor分别预测MEDV、PTRATIO、LSTAT、RM"
   ]
  },
  {
   "cell_type": "code",
   "execution_count": 23,
   "metadata": {},
   "outputs": [],
   "source": [
    "X61 = data[['RM','LSTAT','PTRATIO']]\n",
    "y61 = data['MEDV']\n",
    "\n",
    "X61_train, X61_test, y61_train, y61_test = train_test_split(X61, y61, test_size=0.25, random_state=2019)\n",
    "\n"
   ]
  },
  {
   "cell_type": "code",
   "execution_count": 24,
   "metadata": {},
   "outputs": [
    {
     "name": "stdout",
     "output_type": "stream",
     "text": [
      "48343.43770334503\n",
      "4100236866.3401613\n",
      "0.8138462004619913\n"
     ]
    }
   ],
   "source": [
    "gbr.fit(X61_train, y61_train)\n",
    "\n",
    "y61_predict = gbr.predict(X61_test)\n",
    "\n",
    "print (mean_absolute_error(y61_test, y61_predict))\n",
    "print (mean_squared_error(y61_test, y61_predict))\n",
    "print (r2_score(y61_test, y61_predict))"
   ]
  },
  {
   "cell_type": "code",
   "execution_count": 25,
   "metadata": {},
   "outputs": [],
   "source": [
    "X62 = data[['RM','LSTAT','MEDV']]\n",
    "y62 = data['PTRATIO']\n",
    "X62_train, X62_test, y62_train, y62_test = train_test_split(X62, y62, test_size=0.25, random_state=2019)"
   ]
  },
  {
   "cell_type": "code",
   "execution_count": 26,
   "metadata": {},
   "outputs": [
    {
     "name": "stdout",
     "output_type": "stream",
     "text": [
      "1.4659155575110907\n",
      "3.7797254785500356\n",
      "0.10755695237808871\n"
     ]
    }
   ],
   "source": [
    "gbr.fit(X62_train, y62_train)\n",
    "\n",
    "y62_predict = gbr.predict(X62_test)\n",
    "\n",
    "print (mean_absolute_error(y62_test, y62_predict))\n",
    "print (mean_squared_error(y62_test, y62_predict))\n",
    "print (r2_score(y62_test, y62_predict))"
   ]
  },
  {
   "cell_type": "code",
   "execution_count": 27,
   "metadata": {},
   "outputs": [],
   "source": [
    "X63 = data[['RM','PTRATIO','MEDV']]\n",
    "y63 = data['LSTAT']\n",
    "\n",
    "X63_train, X63_test, y63_train, y63_test = train_test_split(X63, y63, test_size=0.25, random_state=2019)"
   ]
  },
  {
   "cell_type": "code",
   "execution_count": 28,
   "metadata": {},
   "outputs": [
    {
     "name": "stdout",
     "output_type": "stream",
     "text": [
      "3.055618386128809\n",
      "16.444992877606932\n",
      "0.6132319137575765\n"
     ]
    }
   ],
   "source": [
    "gbr.fit(X63_train, y63_train)\n",
    "\n",
    "y63_predict = gbr.predict(X63_test)\n",
    "\n",
    "print (mean_absolute_error(y63_test, y63_predict))\n",
    "print (mean_squared_error(y63_test, y63_predict))\n",
    "print (r2_score(y63_test, y63_predict))"
   ]
  },
  {
   "cell_type": "code",
   "execution_count": 29,
   "metadata": {},
   "outputs": [],
   "source": [
    "X64 = data[[ 'LSTAT','PTRATIO','MEDV']]\n",
    "y64 = data['RM']\n",
    "\n",
    "X64_train, X64_test, y64_train, y64_test = train_test_split(X64, y64, test_size=0.25, random_state=2019)"
   ]
  },
  {
   "cell_type": "code",
   "execution_count": 30,
   "metadata": {},
   "outputs": [
    {
     "name": "stdout",
     "output_type": "stream",
     "text": [
      "0.28116447250346277\n",
      "0.16870393917708607\n",
      "0.6099304714495681\n"
     ]
    }
   ],
   "source": [
    "gbr.fit(X64_train, y64_train)\n",
    "\n",
    "y64_predict = gbr.predict(X64_test)\n",
    "\n",
    "print (mean_absolute_error(y64_test, y64_predict))\n",
    "print (mean_squared_error(y64_test, y64_predict))\n",
    "print (r2_score(y64_test, y64_predict))"
   ]
  },
  {
   "cell_type": "code",
   "execution_count": 31,
   "metadata": {},
   "outputs": [],
   "source": [
    "s2 =  (r2_score(y61_test, y61_predict),r2_score(y62_test, y62_predict),r2_score(y63_test, y63_predict),r2_score(y64_test, y64_predict))"
   ]
  },
  {
   "cell_type": "code",
   "execution_count": 32,
   "metadata": {},
   "outputs": [],
   "source": [
    "m2 = ('RM','LSTAT','PTRATIO','MEDV')"
   ]
  },
  {
   "cell_type": "code",
   "execution_count": 33,
   "metadata": {},
   "outputs": [
    {
     "data": {
      "image/png": "[encoded data removed]",
      "text/plain": [
       "<Figure size 432x288 with 1 Axes>"
      ]
     },
     "metadata": {
      "needs_background": "light"
     },
     "output_type": "display_data"
    }
   ],
   "source": [
    "pl.xlabel('predict object')\n",
    "pl.ylabel('r2_score')\n",
    "pl.plot(m2,s2)\n",
    "pl.show()"
   ]
  },
  {
   "cell_type": "code",
   "execution_count": null,
   "metadata": {},
   "outputs": [],
   "source": []
  }
 ],
 "metadata": {
  "kernelspec": {
   "display_name": "Python 3",
   "language": "python",
   "name": "python3"
  },
  "language_info": {
   "codemirror_mode": {
    "name": "ipython",
    "version": 3
   },
   "file_extension": ".py",
   "mimetype": "text/x-python",
   "name": "python",
   "nbconvert_exporter": "python",
   "pygments_lexer": "ipython3",
   "version": "3.8.3"
  }
 },
 "nbformat": 4,
 "nbformat_minor": 4
}
